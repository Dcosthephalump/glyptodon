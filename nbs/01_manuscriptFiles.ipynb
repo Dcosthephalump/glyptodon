{
 "cells": [
  {
   "cell_type": "markdown",
   "metadata": {},
   "source": [
    "# manuscriptFiles\n",
    "\n",
    "> This module has commands to handle the manuscript file structure and relates the annotation application to files saved in the manuscripts folder"
   ]
  },
  {
   "cell_type": "code",
   "execution_count": null,
   "metadata": {},
   "outputs": [],
   "source": [
    "#| default_exp manuscriptFiles"
   ]
  },
  {
   "cell_type": "code",
   "execution_count": null,
   "metadata": {},
   "outputs": [],
   "source": [
    "#| hide\n",
    "from nbdev.showdoc import *"
   ]
  },
  {
   "cell_type": "code",
   "execution_count": 1,
   "metadata": {
    "tags": []
   },
   "outputs": [],
   "source": [
    "#| export\n",
    "import os\n",
    "import io\n",
    "import cv2\n",
    "import re\n",
    "import numpy as np\n",
    "import base64\n",
    "from PIL import Image"
   ]
  },
  {
   "cell_type": "markdown",
   "metadata": {},
   "source": [
    "## createManuscriptDirectory\n",
    "\n",
    "The ```createManuscriptDirectory``` function creates a new manuscript directory from scratch, including:\n",
    "- a manuscript image folder\n",
    "- an annotation states folder\n",
    "- a metadata file\n",
    "- a folder for exported transcriptions\n",
    "- a folder for imported transcriptions\n",
    "\n",
    "This function relies on two methods: ```directoryNameClean``` and ```dictToList```. These are simple calls for simple purposes, but just complicated enough to warrant their own functions for future optimizations."
   ]
  },
  {
   "cell_type": "code",
   "execution_count": 2,
   "metadata": {
    "tags": []
   },
   "outputs": [],
   "source": [
    "#| export\n",
    "def createManuscriptDirectory(metadata:dict):\n",
    "    # This function creates a directory and metadata file for a new manuscript and returns the new manuscript root directory\n",
    "    \n",
    "    # Establishing the baseDirectory the web app is running in\n",
    "    baseDirectory = os.getcwd()\n",
    "    os.chdir('manuscripts')\n",
    "    allManuscriptsDirectory = os.getcwd()\n",
    "\n",
    "    # Creating the root directory for a new manuscript\n",
    "    title = directoryNameClean(metadata['Work'])\n",
    "    manuscriptDirectory = os.path.join(allManuscriptsDirectory,title)\n",
    "    os.mkdir(manuscriptDirectory)\n",
    "    \n",
    "    # Creating directories\n",
    "    imagesDirectory = os.path.join(manuscriptDirectory,'images')\n",
    "    os.mkdir(imagesDirectory)\n",
    "    statesDirectory = os.path.join(manuscriptDirectory,'states')\n",
    "    os.mkdir(statesDirectory)\n",
    "    exportTranscriptDirectory = os.path.join(manuscriptDirectory,'exportTranscripts')\n",
    "    os.mkdir(exportTranscriptDirectory)\n",
    "    importTranscriptDirectory = os.path.join(manuscriptDirectory,'importTranscripts')\n",
    "    os.mkdir(importTranscriptDirectory)\n",
    "    \n",
    "    # Creating metadata file as config file\n",
    "    os.chdir(manuscriptDirectory)\n",
    "    f = open(title + '.cfg', 'w')\n",
    "    \n",
    "    # Writes relevant metadata to file\n",
    "    printable = dictToList(metadata)\n",
    "    for data in printable:\n",
    "        f.write(data + '\\n')\n",
    "    \n",
    "    # Moves into 'states' directory to add line and bbox folders\n",
    "    os.chdir(statesDirectory)\n",
    "    linesDirectory = os.path.join(statesDirectory, 'lines')\n",
    "    os.mkdir(linesDirectory)\n",
    "    bboxesDirectory = os.path.join(statesDirectory, 'bboxes')\n",
    "    os.mkdir(bboxesDirectory)\n",
    "    \n",
    "    os.chdir(baseDirectory)\n",
    "    \n",
    "    return manuscriptDirectory"
   ]
  },
  {
   "cell_type": "code",
   "execution_count": 24,
   "metadata": {
    "tags": []
   },
   "outputs": [
    {
     "data": {
      "text/plain": [
       "'/home/dc/glyptodon/glyptodon/manuscripts/stvrnktmnstrygrkcllctnn53'"
      ]
     },
     "execution_count": 24,
     "metadata": {},
     "output_type": "execute_result"
    }
   ],
   "source": [
    "# Testing on a real world example\n",
    "Stav53 = {\n",
    "    'Work': 'Stavronikita Monastery Greek handwritten document Collection no.53',\n",
    "    'Author': '',\n",
    "    'Language': 'Greek',\n",
    "    'Country': 'Greece',\n",
    "    'City': 'Mount Athos',\n",
    "    'Institution': 'Stavronikita Monastery',\n",
    "    'Centuries': '14th Century'\n",
    "}\n",
    "\n",
    "createManuscriptDirectory(Stav53)"
   ]
  },
  {
   "cell_type": "markdown",
   "metadata": {},
   "source": [
    "## dictToList\n",
    "\n",
    "The ```dictToList``` function creates a printable list out of a dictionary that keeps keys separate from the items stored to them and creates a list that can be printed to a file, specifically the manuscript ```title.cfg``` file."
   ]
  },
  {
   "cell_type": "code",
   "execution_count": 12,
   "metadata": {
    "tags": []
   },
   "outputs": [],
   "source": [
    "#| export\n",
    "def dictToList(thisdict:dict):\n",
    "    # This function turns a dictionary into a list of printable strings\n",
    "    keys = []\n",
    "    for key in thisdict.keys():\n",
    "        keys.append(key)\n",
    "\n",
    "    values = []\n",
    "    for value in thisdict.values():\n",
    "        values.append(value)\n",
    "    \n",
    "    printable = []\n",
    "    for i in range(len(keys)):\n",
    "        printable.append(str(keys[i]) + ':' + str(values[i]))\n",
    "    \n",
    "    return printable"
   ]
  },
  {
   "cell_type": "code",
   "execution_count": null,
   "metadata": {},
   "outputs": [
    {
     "name": "stdout",
     "output_type": "stream",
     "text": [
      "brand:Ford\n",
      "model:Mustang\n",
      "year:1964\n"
     ]
    }
   ],
   "source": [
    "# Testing dictToList\n",
    "\n",
    "thisdict = {\n",
    "  \"brand\": \"Ford\",\n",
    "  \"model\": \"Mustang\",\n",
    "  \"year\": 1964\n",
    "}\n",
    "\n",
    "printable = dictToList(thisdict)\n",
    "\n",
    "for i in range(len(printable)):\n",
    "    print(printable[i])"
   ]
  },
  {
   "cell_type": "markdown",
   "metadata": {},
   "source": [
    "## directoryNameClean\n",
    "\n",
    "The ```directoryNameClean``` function removes the characters from a string that are not allowed characters for a directory name and shortens the name. It is called in other manuscript file methods and is indirectly used to generate a folder key for the select manuscripts. It cuts down the length of the title to no more than 26 characters to avoid creating excessively long directory titles and surpassing the 260 character limit. While it is unlikely for the path limit to be reached, caution is good. It proceeds in this order:\n",
    "- Remove words that are not capitalized at the beginning or are not numerical\n",
    "- Remove illegal characters\n",
    "- If name length is greater than 26:\n",
    "  - Remove vowels\n",
    "  - Remove trailing characters"
   ]
  },
  {
   "cell_type": "code",
   "execution_count": 4,
   "metadata": {
    "tags": []
   },
   "outputs": [],
   "source": [
    "#| export\n",
    "def directoryNameClean(string):\n",
    "    # This breaks a string down into individual words and\n",
    "    words = string.split()\n",
    "    upperWords = []\n",
    "    for word in words:\n",
    "        if word[0].isupper():\n",
    "            upperWords.append(word)\n",
    "        elif word.isalpha() == False:\n",
    "            upperWords.append(word)\n",
    "    \n",
    "    string = ''\n",
    "    for word in upperWords:\n",
    "        string = string + word\n",
    "    \n",
    "    # This loop removes any of the illegal characters for directories\n",
    "    # It also removes periods as a stylistic choice (file extensions are found at periods)\n",
    "    illegalChars = ['\\\\','#','%','&','{','}','<','>','*','?','/',' ','$','!',\"'\",'\"',':','@','+','`','|','=','.']\n",
    "    for char in illegalChars:\n",
    "        removalCount = 0\n",
    "        numChars = len(string)\n",
    "        for i in range(len(string)):\n",
    "            if string[i] == char:\n",
    "                string = string[:i] + string[i+1:]\n",
    "                removalCount = removalCount + 1\n",
    "\n",
    "            if numChars - removalCount - 1 == i:\n",
    "                break\n",
    "    \n",
    "    # This loop removes any vowels in an overly long string\n",
    "    vowels = ['a','e','i','o','u']\n",
    "    if len(string) > 26:\n",
    "        for char in vowels:\n",
    "            removalCount = 0\n",
    "            numChars = len(string)\n",
    "            for i in range(len(string)):\n",
    "                if string[i] == char:\n",
    "                    while string[i] == char:\n",
    "                        string = string[:i] + string[i+1:]\n",
    "                        removalCount = removalCount + 1\n",
    "                \n",
    "                if numChars - removalCount - 1 == i:\n",
    "                    break\n",
    "    \n",
    "    if len(string) > 26:\n",
    "        string = string[0:26]\n",
    "    \n",
    "    return string.lower()"
   ]
  },
  {
   "cell_type": "code",
   "execution_count": null,
   "metadata": {},
   "outputs": [
    {
     "name": "stdout",
     "output_type": "stream",
     "text": [
      "stvrnktmnstrygrkcllctnn.53\n"
     ]
    }
   ],
   "source": [
    "# Testing the function on a real world example\n",
    "newstring = 'Stavronikita Monastery Greek handwritten document Collection no.53'\n",
    "\n",
    "print(directoryNameClean(newstring))"
   ]
  },
  {
   "cell_type": "code",
   "execution_count": null,
   "metadata": {},
   "outputs": [
    {
     "name": "stdout",
     "output_type": "stream",
     "text": [
      "\\aaa#aaa%aaa&aaa{aaa}aaa<aaa>aaa*aaa?aaa/aaa aaa$aaa!aaa'aaa\"aaa:aaa@aaa+aaa`aaa|aaa=aaa\n",
      "a\n"
     ]
    }
   ],
   "source": [
    "# Testing the directoryNameClean function. ```re.sub``` didn't work for whatever reason, something about nothing being at 0, despite that not being an expected behavior. Difficulty iterating over multiple chars? Also didn't take backslashes at all.\n",
    "\n",
    "illegalChars = ['\\\\','#','%','&','{','}','<','>','*','?','/',' ','$','!',\"'\",'\"',':','@','+','`','|','=']\n",
    "newstring=''\n",
    "\n",
    "for char in illegalChars:\n",
    "    newstring = newstring + char + 'aaa'\n",
    "    \n",
    "print(newstring)\n",
    "\n",
    "print(directoryNameClean(newstring))"
   ]
  },
  {
   "cell_type": "markdown",
   "metadata": {},
   "source": [
    "## saveImage [Convert to Dash ```Upload```]\n",
    "\n",
    "The ```saveImage``` function takes image content from the upload widget value dictionary and saves them as files to the relevant manuscripts folder. Borrows code from [Ulrich Stern's answer](https://stackoverflow.com/a/54162776/1628638) and iterates over the elements of the dictionary with that code. It takes the arguments:\n",
    "- ```files```: a dictionary with image data for several images keyed in memory\n",
    "- ```targetDirectory```: a path to some manuscript directory for image saving\n",
    "\n",
    "Passed into the ```files``` argument **MUST** be a ```<FileUpload widget>.value``` key from an uploader with image data. This contains the memory locations for the images."
   ]
  },
  {
   "cell_type": "raw",
   "metadata": {},
   "source": [
    "#| export\n",
    "def saveImages(files:dict, targetDirectory):\n",
    "    # This function saves content from memory into storage using the keys in the passed files dict (from a FileUpload widget)\n",
    "    # This \n",
    "    baseDirectory = os.getcwd()\n",
    "    os.chdir(os.path.join(targetDirectory, 'images'))\n",
    "    \n",
    "    # Not sure what exactly this does, this is what I borrowed\n",
    "    for i in range(len(files)):\n",
    "        # I think this takes the content from the memory marker and reads it into Python readable code\n",
    "        img_stream = io.BytesIO(files[i]['content'])\n",
    "        # I have no clue why Numpy is needed here (probably some ungodly matrices and formats), but this turns the data into a cv2 readable image\n",
    "        img = cv2.imdecode(np.frombuffer(img_stream.read(), np.uint8), 1)\n",
    "        # This writes an image to some target directory\n",
    "        cv2.imwrite(files[i]['name'], img)\n",
    "        \n",
    "    os.chdir(baseDirectory)"
   ]
  },
  {
   "cell_type": "code",
   "execution_count": null,
   "metadata": {},
   "outputs": [],
   "source": [
    "#| export\n",
    "def saveImages(contents, filenames, targetDirectory):\n",
    "    # This function saves content from memory into storage using the keys in the passed files dict (from a FileUpload widget)\n",
    "    # This\n",
    "    baseDirectory = os.getcwd()\n",
    "    os.chdir(os.path.join(targetDirectory, \"images\"))\n",
    "    \n",
    "    if type(contents) != list:\n",
    "        contents = [contents]\n",
    "        filenames = [filenames]\n",
    "    \n",
    "    for i in range(0, len(contents)):\n",
    "        string64 = contents[i].encode(\"utf8\").split(b\";base64,\")[1]\n",
    "        imdata = base64.b64decode(string64)\n",
    "        pilImage = Image.open(io.BytesIO(imdata))\n",
    "        cv2Image = cv2.cvtColor(np.array(pilImage), cv2.COLOR_BGR2RGB)\n",
    "        cv2.imwrite(\"test\" + filenames[i], cv2Image)\n",
    "    \n",
    "    os.chdir(baseDirectory)"
   ]
  },
  {
   "cell_type": "code",
   "execution_count": null,
   "metadata": {
    "tags": []
   },
   "outputs": [],
   "source": [
    "# testing for saveImages\n",
    "from dash import Dash, State, Input, Output, callback, dcc, html\n",
    "import base64\n",
    "from PIL import Image\n",
    "\n",
    "app = Dash(__name__)\n",
    "app.layout = html.Div(\n",
    "    [\n",
    "        dcc.Upload(html.Button(\"upload\"), id=\"test-upload\", multiple = True),\n",
    "        html.Pre(id=\"annotations-data-pre\"),\n",
    "    ]\n",
    ")\n",
    "\n",
    "@callback(\n",
    "    Output(\"annotations-data-pre\", \"children\"),\n",
    "    Input(\"test-upload\",\"contents\"),\n",
    "    State(\"test-upload\",\"filename\"),\n",
    "    prevent_initial_call=True,\n",
    ")\n",
    "def simplePrint(contents, filenames):\n",
    "    print(filename)\n",
    "    for thing in content:\n",
    "        string64 = thing.encode(\"utf8\").split(b\";base64,\")[1]\n",
    "    \n",
    "        imdata = base64.b64decode(string64)\n",
    "        pilImage = Image.open(io.BytesIO(imdata))\n",
    "        cv2Image = cv2.cvtColor(np.array(pilImage), cv2.COLOR_BGR2RGB)\n",
    "        cv2.imwrite(\"test\" + filename, cv2Image)\n",
    "    return content\n",
    "\n",
    "if __name__ == \"__main__\":\n",
    "    app.run(debug=True)"
   ]
  },
  {
   "cell_type": "markdown",
   "metadata": {},
   "source": [
    "## saveTranscript\n",
    "\n",
    "Like ```saveImage```, the ```saveTranscript``` function takes in:\n",
    "- ```files```: a dictionary with data from a ```FileUploader``` widget\n",
    "- ```targetDirectory```: a path to a directory for saving the relevant files"
   ]
  },
  {
   "cell_type": "code",
   "execution_count": 19,
   "metadata": {
    "tags": []
   },
   "outputs": [],
   "source": [
    "#| export\n",
    "def saveTranscripts(contents, filenames, targetDirectory):\n",
    "    baseDirectory = os.getcwd()\n",
    "    os.chdir(os.path.join(targetDirectory, \"importTranscripts\"))\n",
    "    \n",
    "    if type(contents) != list:\n",
    "        contents = [contents]\n",
    "        filenames = [filenames]\n",
    "    \n",
    "    for i in range(0, len(contents)):\n",
    "        string64 = contents[i].encode(\"utf8\").split(b\";base64,\")[1]\n",
    "        message = base64.b64decode(string64).decode('utf-8')\n",
    "        f = open(filenames[i], 'w')\n",
    "        f.write(message)\n",
    "    \n",
    "    os.chdir(baseDirectory)"
   ]
  },
  {
   "cell_type": "markdown",
   "metadata": {},
   "source": [
    "Just a cell"
   ]
  },
  {
   "cell_type": "code",
   "execution_count": 18,
   "metadata": {
    "tags": []
   },
   "outputs": [
    {
     "data": {
      "text/html": [
       "\n",
       "        <iframe\n",
       "            width=\"100%\"\n",
       "            height=\"650\"\n",
       "            src=\"http://127.0.0.1:8050/\"\n",
       "            frameborder=\"0\"\n",
       "            allowfullscreen\n",
       "            \n",
       "        ></iframe>\n",
       "        "
      ],
      "text/plain": [
       "<IPython.lib.display.IFrame at 0x7fcc51698890>"
      ]
     },
     "metadata": {},
     "output_type": "display_data"
    },
    {
     "name": "stdout",
     "output_type": "stream",
     "text": [
      "<class 'NoneType'>\n",
      "<class 'NoneType'>\n"
     ]
    }
   ],
   "source": [
    "# testing for saveTranscript\n",
    "from dash import Dash, State, Input, Output, callback, dcc, html\n",
    "import base64\n",
    "\n",
    "app = Dash(__name__)\n",
    "app.layout = html.Div(\n",
    "    [\n",
    "        dcc.Upload(html.Button(\"upload\"), id=\"test-upload\", multiple = True),\n",
    "        html.Button(\"test\", id=\"query\"),\n",
    "        html.Pre(id=\"annotations-data-pre\"),\n",
    "    ]\n",
    ")\n",
    "\n",
    "@callback(\n",
    "    Output(\"annotations-data-pre\", \"children\"),\n",
    "    Input(\"query\",\"n_clicks\"),\n",
    "    State(\"test-upload\",\"contents\"),\n",
    "    State(\"test-upload\",\"filename\"),\n",
    "    prevent_initial_call=True,\n",
    ")\n",
    "def simplePrint(clicks, contents, filenames):\n",
    "    print(type(contents))\n",
    "    print(type(filenames))\n",
    "    return contents\n",
    "\n",
    "if __name__ == \"__main__\":\n",
    "    app.run(debug=True)"
   ]
  },
  {
   "cell_type": "markdown",
   "metadata": {},
   "source": [
    "## currentManuscripts\n",
    "\n",
    "We also want a function that can search through the current directories in manuscripts and find all the manuscripts in the directory to return the metadata of the manuscripts. To that end, we have the ```currentManuscripts``` function."
   ]
  },
  {
   "cell_type": "code",
   "execution_count": 15,
   "metadata": {
    "tags": []
   },
   "outputs": [],
   "source": [
    "#| export\n",
    "\n",
    "def currentManuscripts():\n",
    "    # If this is run on any computer, it will have a unique file structure. This implementation works with that file structure.\n",
    "    baseDirectory = os.getcwd()\n",
    "    manuscriptDirectory = os.path.join(baseDirectory,'manuscripts')\n",
    "    \n",
    "    # This is necessary to keep directories accessible. Without os.path.join, we can't keep a full directory name and access files inside specific directories\n",
    "    directories = []\n",
    "    for path in os.listdir(manuscriptDirectory):\n",
    "        directories.append(os.path.join(manuscriptDirectory,path))\n",
    "    \n",
    "    # This is necessary to store metadata from .cfg files\n",
    "    manuscriptMetadata = []\n",
    "    \n",
    "    # This is necessary to search each directory in the manuscripts folder\n",
    "    for directory in directories:\n",
    "        # This looks through each file in a given directory\n",
    "        for file in os.listdir(directory):\n",
    "            # This opens config files and reads metadata from them\n",
    "            if file.endswith('.cfg'):\n",
    "                fileDirectory = os.path.join(directory,file)\n",
    "                f = open(fileDirectory, 'r')\n",
    "                metadata = {}\n",
    "\n",
    "                for line in f:\n",
    "                    key, value = line.split(':')\n",
    "                    metadata[key] = value[:-1]\n",
    "\n",
    "                manuscriptMetadata.append((directory, metadata))\n",
    "    \n",
    "    os.chdir(baseDirectory)\n",
    "    return manuscriptMetadata"
   ]
  },
  {
   "cell_type": "code",
   "execution_count": 5,
   "metadata": {
    "tags": []
   },
   "outputs": [
    {
     "name": "stdout",
     "output_type": "stream",
     "text": [
      "1\n",
      "/home/dc/glyptodon/nbs/manuscripts/stvrnktmnstrygrkcllctnn.53\n",
      "14th Century\n"
     ]
    }
   ],
   "source": [
    "#| hide\n",
    "test = currentManuscripts()\n",
    "\n",
    "print(len(test))\n",
    "\n",
    "for metadata in test:\n",
    "    print(metadata[0])\n",
    "    print(metadata[1][\"Centuries\"])"
   ]
  },
  {
   "cell_type": "markdown",
   "metadata": {},
   "source": [
    "## zipManuscript\n",
    "\n",
    "Being able to compress and download a digital manuscript with its transcription is a necessary output of ```glyptodon```, so this function provides the backend for that. It takes in a manuscript directory, a list of possible options for directories that need to be zipped and exported, and a name that is inputted by the user for the folder. It returns the pathway to the zipped folder.\n",
    "\n",
    "It uses the ```zipfile``` library, something only used in this method. Because of that, the import is left inside the method. From the available compression algorithms, this function uses the [```ZIP_DEFLATED```](https://en.wikipedia.org/wiki/Deflate) option because it is lossless.\n",
    "\n",
    "To dial in the best settings for compression, the 9 different levels of compression were tested. After testing out the different compression levels of ```ZIP_DEFLATED``` on the images and xml files in [this dataset](https://zenodo.org/record/5595669), the greatest relative decrease in directory size acheived was a roughly 2 percent decrease in size using compression level 3. This was acheived in 6.663 seconds, the second fastest compression time. It seems clear for this use case that compression level 3 is what is best.\n",
    "\n",
    "The whole set of results is here:\n",
    "\n",
    "| Compression Level | Seconds | MB    |\n",
    "|-------------------|---------|-------|\n",
    "| No Compression    | 0.000   | 247.1 |\n",
    "| Level 1           | 6.638   | 241.9 |\n",
    "| Level 2           | 6.724   | 241.8 |\n",
    "| Level 3           | 6.663   | 241.8 |\n",
    "| Level 4           | 7.385   | 242.8 |\n",
    "| Level 5           | 7.433   | 242.8 |\n",
    "| Level 6           | 7.164   | 242.8 |\n",
    "| Level 7           | 7.262   | 242.8 |\n",
    "| Level 8           | 7.363   | 242.8 |\n",
    "| Level 9           | 7.337   | 242.8 |"
   ]
  },
  {
   "cell_type": "code",
   "execution_count": 15,
   "metadata": {
    "tags": []
   },
   "outputs": [],
   "source": [
    "#| export\n",
    "def zipManuscript(directoryOptions: list, manuscriptDirectory, name: str):\n",
    "    import zipfile\n",
    "    # standard call here to avoid getting the system lost in directories\n",
    "    baseDirectory = os.getcwd()\n",
    "    \n",
    "    lowerOptions = []\n",
    "    for option in directoryOptions:\n",
    "        lowerOptions.append(option.lower())\n",
    "    \n",
    "    files = []\n",
    "    for path in os.listdir(manuscriptDirectory):\n",
    "        # this deletes any currently zipped folder\n",
    "        if path.endswith(\".zip\"):\n",
    "            os.remove(os.path.join(manuscriptDirectory, path))\n",
    "        \n",
    "        # this collects all the files inside option folders\n",
    "        if path in lowerOptions:\n",
    "            if path == \"states\":\n",
    "                tempDirectoryStates = os.path.join(manuscriptDirectory, path)\n",
    "                for statesPath in os.listdir(tempDirectoryStates):\n",
    "                    if statesPath in [\"bboxes\",\"lines\"]:\n",
    "                        tempDirectory = os.path.join(tempDirectoryStates, statesPath)\n",
    "                        for file in os.listdir(tempDirectory):\n",
    "                            files.append(os.path.join(tempDirectory, file))\n",
    "            else:\n",
    "                tempDirectory = os.path.join(manuscriptDirectory, path)\n",
    "                for file in os.listdir(tempDirectory):\n",
    "                    files.append(os.path.join(tempDirectory, file))\n",
    "    \n",
    "    # this zips the collected files\n",
    "    os.chdir(manuscriptDirectory)\n",
    "    for file in files:\n",
    "        zipfile.ZipFile(\n",
    "            file=name + \".zip\",\n",
    "            mode=\"a\",\n",
    "            compression=zipfile.ZIP_DEFLATED,\n",
    "            compresslevel=3,\n",
    "        ).write(file)\n",
    "    \n",
    "    # standard call here to move back to the application's main directory\n",
    "    os.chdir(baseDirectory)\n",
    "\n",
    "    return os.path.join(manuscriptDirectory, name + \".zip\")"
   ]
  },
  {
   "cell_type": "code",
   "execution_count": 41,
   "metadata": {
    "tags": []
   },
   "outputs": [
    {
     "data": {
      "text/plain": [
       "'/home/dc/glyptodon/nbs/manuscripts/stvrnktmnstrygrkcllctnn.53/testy.zip'"
      ]
     },
     "execution_count": 41,
     "metadata": {},
     "output_type": "execute_result"
    }
   ],
   "source": [
    "#| hide\n",
    "print(zipManuscript(['images','importTranscripts'], os.path.join(os.getcwd(), 'manuscripts/stvrnktmnstrygrkcllctnn.53'), 'test1'))\n",
    "\n",
    "print(zipManuscript(['images','importTranscripts'], os.path.join(os.getcwd(), 'manuscripts/stvrnktmnstrygrkcllctnn.53'), 'test2'))"
   ]
  },
  {
   "cell_type": "markdown",
   "metadata": {},
   "source": [
    "## updateMetadata\n",
    "\n",
    "This function is designed to update the metadata in a file given a dictionary of information being passed into it and a path to the relevant directory. This dictionary should be based on calls from ```Text``` widgets in the Information stage. This was designed using [this answer](https://stackoverflow.com/questions/3964681/find-all-files-in-a-directory-with-extension-txt-in-python/3964690#3964690) from stackoverflow."
   ]
  },
  {
   "cell_type": "code",
   "execution_count": 41,
   "metadata": {
    "tags": []
   },
   "outputs": [],
   "source": [
    "#| export\n",
    "def updateMetadata(directory, information):\n",
    "    baseDirectory = os.getcwd()\n",
    "    \n",
    "    for file in os.listdir(directory):\n",
    "        if file.endswith('.cfg'):\n",
    "            os.chdir(directory)\n",
    "            f = open(file, 'w')\n",
    "            printable = dictToList(information)\n",
    "            for data in printable:\n",
    "                f.write(data + '\\n')\n",
    "    \n",
    "    os.chdir(baseDirectory)"
   ]
  },
  {
   "cell_type": "code",
   "execution_count": 43,
   "metadata": {
    "tags": []
   },
   "outputs": [],
   "source": [
    "#| hide\n",
    "\n",
    "directory = '/home/dc/glyptodon/glyptodon/manuscripts/stvrnktmnstrygrkcllctnn.53'\n",
    "information = {'Work': 'Stavronikita Monastery Greek handwritten document Collection no.53',\n",
    "               'Author': 'Anonymous',\n",
    "               'Language': 'Greek',\n",
    "               'Country': 'Greece',\n",
    "               'City': 'Mount Athos',\n",
    "               'Institution': 'Stavronikita Monastery'}\n",
    "\n",
    "updateMetadata(directory, information)"
   ]
  },
  {
   "cell_type": "markdown",
   "metadata": {},
   "source": [
    "## manuscriptImages\n",
    "\n",
    "This function is designed to get the relative paths of the selected manuscript's images into an ordered ```list```. This is to link up to the dropdown selection menu in the annotation tab. Like the save functions, this one takes in the ```targetDirectory``` as the directory of a manuscript. It returns paths relative to ```os.getcwd()``` for the ```cv2``` library to import images. Without relative pathing listed in this manner, more complex pathing needs to be done with ```cv2```. This avoids that difficulty."
   ]
  },
  {
   "cell_type": "code",
   "execution_count": 38,
   "metadata": {
    "tags": []
   },
   "outputs": [],
   "source": [
    "#| export\n",
    "def manuscriptImages(targetDirectory):\n",
    "    baseDirectory = os.getcwd()\n",
    "    # Now, getting a relative pathway to the manuscript\n",
    "        # The slice removes an annoying slash from the string at the first index\n",
    "    relativeToManuscript = re.sub(baseDirectory, \"\", targetDirectory)[1::]\n",
    "    relativeToImages = os.path.join(relativeToManuscript, 'images')\n",
    "    # Now we pull out every file in the directory into a list\n",
    "    files = []\n",
    "    for file in os.listdir(relativeToImages):\n",
    "        if file.startswith('.') == False:\n",
    "            files.append(file)\n",
    "        \n",
    "    # We sort the list alphanumerically\n",
    "    files.sort()\n",
    "    \n",
    "    # Then we join each file to the relative pathway to the images folder\n",
    "    # It also keeps an index that can be accessed by the dropdown\n",
    "    relativePaths = []\n",
    "    for file in files:\n",
    "        relativePaths.append(os.path.join(relativeToImages, file))\n",
    "    \n",
    "    return relativePaths"
   ]
  },
  {
   "cell_type": "code",
   "execution_count": 39,
   "metadata": {
    "tags": []
   },
   "outputs": [
    {
     "name": "stdout",
     "output_type": "stream",
     "text": [
      "[('/home/dc/glyptodon/nbs/manuscripts/stvrnktmnstrygrkcllctnn.53', {'Work': 'Stavronikita Monastery Greek handwritten document Collection no.53', 'Author': '', 'Language': 'Greek', 'Country': 'Greece', 'City': 'Mount Athos', 'Institution': 'Stavronikita Monastery', 'Centuries': '14th Century'})]\n",
      "/home/dc/glyptodon/nbs\n",
      "/manuscripts/stvrnktmnstrygrkcllctnn.53\n",
      "manuscripts/stvrnktmnstrygrkcllctnn.53/images\n",
      "manuscripts/stvrnktmnstrygrkcllctnn.53/images/15_01_0053_0006_f_3r_res.png\n",
      "manuscripts/stvrnktmnstrygrkcllctnn.53/images/15_01_0053_0007_f_3v_res.png\n",
      "manuscripts/stvrnktmnstrygrkcllctnn.53/images/15_01_0053_0008_f_4r_res.png\n",
      "manuscripts/stvrnktmnstrygrkcllctnn.53/images/15_01_0053_0009_f_4v_res.png\n",
      "manuscripts/stvrnktmnstrygrkcllctnn.53/images/15_01_0053_0010_f_5r_res.png\n",
      "manuscripts/stvrnktmnstrygrkcllctnn.53/images/15_01_0053_0011_f_5v_res.png\n",
      "manuscripts/stvrnktmnstrygrkcllctnn.53/images/15_01_0053_0012_f_6r_res.png\n",
      "manuscripts/stvrnktmnstrygrkcllctnn.53/images/15_01_0053_0013_f_6v_res.png\n",
      "manuscripts/stvrnktmnstrygrkcllctnn.53/images/15_01_0053_0014_f_7r_res.png\n",
      "manuscripts/stvrnktmnstrygrkcllctnn.53/images/15_01_0053_0015_f_7v_res.png\n",
      "manuscripts/stvrnktmnstrygrkcllctnn.53/images/15_01_0053_0016_f_8r_res.png\n",
      "manuscripts/stvrnktmnstrygrkcllctnn.53/images/15_01_0053_0017_f_8v_res.png\n",
      "manuscripts/stvrnktmnstrygrkcllctnn.53/images/15_01_0053_0018_f_9r_res.png\n",
      "manuscripts/stvrnktmnstrygrkcllctnn.53/images/15_01_0053_0019_f_9v_res.png\n",
      "manuscripts/stvrnktmnstrygrkcllctnn.53/images/15_01_0053_0020_f_10r_res.png\n",
      "manuscripts/stvrnktmnstrygrkcllctnn.53/images/15_01_0053_0021_f_10v_res.png\n",
      "manuscripts/stvrnktmnstrygrkcllctnn.53/images/15_01_0053_0022_f_11r_res.png\n",
      "manuscripts/stvrnktmnstrygrkcllctnn.53/images/15_01_0053_0023_f_11v_res.png\n",
      "manuscripts/stvrnktmnstrygrkcllctnn.53/images/15_01_0053_0024_f_12r_res.png\n",
      "manuscripts/stvrnktmnstrygrkcllctnn.53/images/15_01_0053_0025_f_12v_res.png\n",
      "manuscripts/stvrnktmnstrygrkcllctnn.53/images/15_01_0053_0026_f_13r_res.png\n",
      "manuscripts/stvrnktmnstrygrkcllctnn.53/images/15_01_0053_0027_f_13v_res.png\n",
      "manuscripts/stvrnktmnstrygrkcllctnn.53/images/15_01_0053_0028_f_14r_res.png\n",
      "manuscripts/stvrnktmnstrygrkcllctnn.53/images/15_01_0053_0029_f_14v_res.png\n",
      "manuscripts/stvrnktmnstrygrkcllctnn.53/images/15_01_0053_0030_f_15r_res.png\n",
      "manuscripts/stvrnktmnstrygrkcllctnn.53/images/15_01_0053_0031_f_15v_res.png\n",
      "manuscripts/stvrnktmnstrygrkcllctnn.53/images/15_01_0053_0032_f_16r_res.png\n",
      "manuscripts/stvrnktmnstrygrkcllctnn.53/images/15_01_0053_0033_f_16v_res.png\n",
      "manuscripts/stvrnktmnstrygrkcllctnn.53/images/15_01_0053_0034_f_17r_res.png\n",
      "manuscripts/stvrnktmnstrygrkcllctnn.53/images/15_01_0053_0035_f_17v_res.png\n",
      "manuscripts/stvrnktmnstrygrkcllctnn.53/images/15_01_0053_0036_f_18r_res.png\n",
      "manuscripts/stvrnktmnstrygrkcllctnn.53/images/15_01_0053_0037_f_18v_res.png\n",
      "manuscripts/stvrnktmnstrygrkcllctnn.53/images/15_01_0053_0038_f_19r_res.png\n",
      "manuscripts/stvrnktmnstrygrkcllctnn.53/images/15_01_0053_0039_f_19v_res.png\n",
      "manuscripts/stvrnktmnstrygrkcllctnn.53/images/15_01_0053_0040_f_20r_res.png\n",
      "manuscripts/stvrnktmnstrygrkcllctnn.53/images/15_01_0053_0041_f_20v_res.png\n",
      "manuscripts/stvrnktmnstrygrkcllctnn.53/images/15_01_0053_0042_f_21r_res.png\n",
      "manuscripts/stvrnktmnstrygrkcllctnn.53/images/15_01_0053_0043_f_21v_res.png\n",
      "manuscripts/stvrnktmnstrygrkcllctnn.53/images/15_01_0053_0044_f_22r_res.png\n",
      "manuscripts/stvrnktmnstrygrkcllctnn.53/images/15_01_0053_0045_f_22v_res.png\n",
      "manuscripts/stvrnktmnstrygrkcllctnn.53/images/15_01_0053_0046_f_23r_res.png\n",
      "manuscripts/stvrnktmnstrygrkcllctnn.53/images/15_01_0053_0047_f_23v_res.png\n",
      "manuscripts/stvrnktmnstrygrkcllctnn.53/images/15_01_0053_0048_f_24r_res.png\n",
      "manuscripts/stvrnktmnstrygrkcllctnn.53/images/15_01_0053_0049_f_24v_res.png\n",
      "manuscripts/stvrnktmnstrygrkcllctnn.53/images/15_01_0053_0050_f_25r_res.png\n",
      "manuscripts/stvrnktmnstrygrkcllctnn.53/images/15_01_0053_0051_f_25v_res.png\n",
      "manuscripts/stvrnktmnstrygrkcllctnn.53/images/15_01_0053_0052_f_26r_res.png\n",
      "manuscripts/stvrnktmnstrygrkcllctnn.53/images/15_01_0053_0053_f_26v_res.png\n",
      "manuscripts/stvrnktmnstrygrkcllctnn.53/images/15_01_0053_0054_f_27r_res.png\n",
      "manuscripts/stvrnktmnstrygrkcllctnn.53/images/15_01_0053_0055_f_27v_res.png\n",
      "manuscripts/stvrnktmnstrygrkcllctnn.53/images/15_01_0053_0056_f_28r_res.png\n",
      "manuscripts/stvrnktmnstrygrkcllctnn.53/images/15_01_0053_0057_f_28v_res.png\n",
      "manuscripts/stvrnktmnstrygrkcllctnn.53/images/15_01_0053_0058_f_29r_res.png\n",
      "manuscripts/stvrnktmnstrygrkcllctnn.53/images/15_01_0053_0059_f_29v_res.png\n"
     ]
    }
   ],
   "source": [
    "#| hide\n",
    "test = currentManuscripts()\n",
    "print(test)\n",
    "images = []\n",
    "for metadata in test:\n",
    "    images.append(manuscriptImages(metadata[0]))\n",
    "\n",
    "for manuscript in images:\n",
    "    for tup in manuscript:\n",
    "        print(tup)"
   ]
  },
  {
   "cell_type": "code",
   "execution_count": null,
   "metadata": {},
   "outputs": [],
   "source": [
    "#| hide\n",
    "import nbdev; nbdev.nbdev_export()"
   ]
  }
 ],
 "metadata": {
  "kernelspec": {
   "display_name": "Python 3 (ipykernel)",
   "language": "python",
   "name": "python3"
  },
  "language_info": {
   "codemirror_mode": {
    "name": "ipython",
    "version": 3
   },
   "file_extension": ".py",
   "mimetype": "text/x-python",
   "name": "python",
   "nbconvert_exporter": "python",
   "pygments_lexer": "ipython3",
   "version": "3.11.4"
  }
 },
 "nbformat": 4,
 "nbformat_minor": 4
}
