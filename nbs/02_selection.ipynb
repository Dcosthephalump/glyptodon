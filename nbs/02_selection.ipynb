{
 "cells": [
  {
   "cell_type": "markdown",
   "metadata": {},
   "source": [
    "# selection\n",
    "\n",
    "> This module contains code for the selection tab of the application"
   ]
  },
  {
   "cell_type": "code",
   "execution_count": 1,
   "metadata": {},
   "outputs": [],
   "source": [
    "#| default_exp selection"
   ]
  },
  {
   "cell_type": "code",
   "execution_count": 1,
   "metadata": {},
   "outputs": [],
   "source": [
    "#| hide\n",
    "from nbdev.showdoc import *"
   ]
  },
  {
   "cell_type": "markdown",
   "metadata": {},
   "source": [
    "These are the relevant library calls to build out the UI and the calls to the model in order to set up the manuscript selection buttons."
   ]
  },
  {
   "cell_type": "code",
   "execution_count": 2,
   "metadata": {},
   "outputs": [],
   "source": [
    "#| hide\n",
    "# This library is only for testing the layout. It does not need to be called extraneously\n",
    "import dash"
   ]
  },
  {
   "cell_type": "code",
   "execution_count": 3,
   "metadata": {
    "tags": []
   },
   "outputs": [],
   "source": [
    "#| export\n",
    "from dash import dcc, html\n",
    "import dash_bootstrap_components as dbc\n",
    "from glyptodon.manuscriptFiles import currentManuscripts"
   ]
  },
  {
   "cell_type": "markdown",
   "metadata": {},
   "source": [
    "## createManuscriptSelect\n",
    "\n",
    "We want to create a manuscript selection object. This function uses ```currentManuscripts``` to check the current manuscripts for titles and return both an object and a key for selecting manuscripts. This uses the [```RadioItems```](https://dash.plotly.com/dash-core-components/radioitems) object. The values returned are:\n",
    "- ```list``` containing the relative directories to manuscripts and the metadata pulled from them\n",
    "- ```RadioItems``` with children given values from manuscript metadata\n",
    "\n",
    "This object is also given an ```id``` to be referenced for [callbacks](https://dash.plotly.com/basic-callbacks)."
   ]
  },
  {
   "cell_type": "code",
   "execution_count": 4,
   "metadata": {},
   "outputs": [],
   "source": [
    "#| export\n",
    "def createManuscriptSelect():\n",
    "    manuscripts = currentManuscripts()\n",
    "\n",
    "    selectionKey = {}\n",
    "    selectionNames = []\n",
    "    for manuscript in manuscripts:\n",
    "        selectionNames.append(manuscript[1][\"Work\"])\n",
    "        selectionKey[selectionNames[-1]] = manuscript\n",
    "\n",
    "    manuscriptSelect = dbc.RadioItems(\n",
    "        options=selectionNames + [\"Create New Manuscript\"],\n",
    "        value=\"Stavronikita Monastery Greek handwritten document Collection no.53\",\n",
    "        id=\"manuscript-select\",\n",
    "    )\n",
    "\n",
    "    return selectionKey, manuscriptSelect"
   ]
  },
  {
   "cell_type": "code",
   "execution_count": 3,
   "metadata": {
    "tags": []
   },
   "outputs": [
    {
     "data": {
      "text/plain": [
       "{'Stavronikita Monastery Greek handwritten document Collection no.53': ('/home/dc/glyptodon/nbs/manuscripts/stvrnktmnstrygrkcllctnn.53',\n",
       "  {'Work': 'Stavronikita Monastery Greek handwritten document Collection no.53',\n",
       "   'Author': '',\n",
       "   'Language': 'Greek',\n",
       "   'Country': 'Greece',\n",
       "   'City': 'Mount Athos',\n",
       "   'Institution': 'Stavronikita Monastery',\n",
       "   'Centuries': '14th Century'})}"
      ]
     },
     "execution_count": 3,
     "metadata": {},
     "output_type": "execute_result"
    }
   ],
   "source": [
    "#| hide\n",
    "createManuscriptSelect()[0]"
   ]
  },
  {
   "cell_type": "markdown",
   "metadata": {},
   "source": [
    "## createSelectionInfo\n",
    "\n",
    "We want an info pane that tells the user how to use the ```selection``` tab. This function creates an information pane with the [```Markdown```](https://dash.plotly.com/dash-core-components/markdown) object."
   ]
  },
  {
   "cell_type": "code",
   "execution_count": 5,
   "metadata": {
    "tags": []
   },
   "outputs": [],
   "source": [
    "#| export\n",
    "def createSelectionInfo():\n",
    "    return dbc.Card(\n",
    "        dbc.CardBody(\n",
    "            [\n",
    "                html.H1(\"Selection\"),\n",
    "                html.P(\n",
    "                    \"This menu allows you to select from the currently available manuscripts or create a new manuscript. \"\n",
    "                    \"Once you have made your selection, click the Finalize Selection button to move to the next tab.\"\n",
    "                )\n",
    "            ]\n",
    "        )\n",
    "    )"
   ]
  },
  {
   "cell_type": "code",
   "execution_count": 6,
   "metadata": {
    "tags": []
   },
   "outputs": [
    {
     "data": {
      "text/plain": [
       "Markdown('\\n    # Selection\\n    \\n    This menu allows you to select from the currently available manuscripts *or* create a new manuscript.\\n    \\n    Once you have made your selection, click the Next button to move to the next tab.\\n    ')"
      ]
     },
     "execution_count": 6,
     "metadata": {},
     "output_type": "execute_result"
    }
   ],
   "source": [
    "#| hide\n",
    "createSelectionInfo()"
   ]
  },
  {
   "cell_type": "markdown",
   "metadata": {},
   "source": [
    "## createFinalizeSelection\n",
    "\n",
    "We need a button to click that finalizes the selection input and moves us to the next tab. The [```Button```](https://dash.plotly.com/dash-html-components/button) object is an ```HTML``` element that is available in ```Dash```. It has a unique id so that it can be used in the main application."
   ]
  },
  {
   "cell_type": "code",
   "execution_count": 6,
   "metadata": {
    "tags": []
   },
   "outputs": [],
   "source": [
    "#| export\n",
    "def createFinalizeSelection():\n",
    "    return dbc.Button(\"Finalize Selection\", color=\"primary\", id=\"finalize-selection\")"
   ]
  },
  {
   "cell_type": "code",
   "execution_count": 8,
   "metadata": {
    "tags": []
   },
   "outputs": [
    {
     "data": {
      "text/plain": [
       "Button(children='Finalize Selection', id='finalize-selection')"
      ]
     },
     "execution_count": 8,
     "metadata": {},
     "output_type": "execute_result"
    }
   ],
   "source": [
    "#| hide\n",
    "createFinalizeSelection()"
   ]
  },
  {
   "cell_type": "markdown",
   "metadata": {},
   "source": [
    "## createSelectionLayout\n",
    "\n",
    "We need to have a layout into which this all fits. We will leverage more elements from HTML. We can use the ```Div``` object as a container for the ```HTML``` and ```Dash``` objects. Now, the ```selectionKey``` defined in and returned from ```createManuscriptSelect``` is necessary to maintain and does not deserve its own function call to create. So, this function will keep ```selectionKey``` and pass it along. As such, this function returns:\n",
    "- ```selectionKey```\n",
    "- A ```Div``` object containing the tab layout to be put into a ```Tab``` object"
   ]
  },
  {
   "cell_type": "code",
   "execution_count": 25,
   "metadata": {
    "tags": []
   },
   "outputs": [],
   "source": [
    "#| export\n",
    "def createSelectionLayout():\n",
    "    selectionKey, manuscriptSelect = createManuscriptSelect()\n",
    "    layout = html.Div(\n",
    "        [\n",
    "            createSelectionInfo(),\n",
    "            html.Br(),\n",
    "            dbc.Card(\n",
    "                [\n",
    "                    manuscriptSelect,\n",
    "                    html.Br(),\n",
    "                    createFinalizeSelection(),\n",
    "                ]\n",
    "            ),\n",
    "        ]\n",
    "    )\n",
    "\n",
    "    return selectionKey, layout"
   ]
  },
  {
   "cell_type": "code",
   "execution_count": 10,
   "metadata": {
    "tags": []
   },
   "outputs": [
    {
     "data": {
      "text/plain": [
       "({'Stavronikita Monastery Greek handwritten document Collection no.53': ['/home/dc/glyptodon/nbs/manuscripts/stvrnktmnstrygrkcllctnn.53',\n",
       "   {'Work': 'Stavronikita Monastery Greek handwritten document Collection no.53',\n",
       "    'Author': '',\n",
       "    'Language': 'Greek',\n",
       "    'Country': 'Greece',\n",
       "    'City': 'Mount Athos',\n",
       "    'Institution': 'Stavronikita Monastery',\n",
       "    'Centuries': '14th Century'}]},\n",
       " Div([Markdown('\\n    # Selection\\n    \\n    This menu allows you to select from the currently available manuscripts *or* create a new manuscript.\\n    \\n    Once you have made your selection, click the Next button to move to the next tab.\\n    '), Div([RadioItems(options=['Stavronikita Monastery Greek handwritten document Collection no.53', 'Create New Manuscript'], value='Stavronikita Monastery Greek handwritten document Collection no.53', id='manuscript_select'), Button(children='Finalize Selection', id='finalize-selection')])]))"
      ]
     },
     "execution_count": 10,
     "metadata": {},
     "output_type": "execute_result"
    }
   ],
   "source": [
    "#| hide\n",
    "createSelectionLayout()"
   ]
  },
  {
   "cell_type": "markdown",
   "metadata": {},
   "source": [
    "# Testing the Layout\n",
    "\n",
    "This will not be exported as it involves the creation of a ```Dash``` application to run on a server. For testing, this runs on the local server [http://127.0.0.1:8050/](http://127.0.0.1:8050/). Only one ```Dash``` application can run at a time."
   ]
  },
  {
   "cell_type": "code",
   "execution_count": null,
   "metadata": {
    "tags": []
   },
   "outputs": [],
   "source": [
    "#| hide\n",
    "app = dash.Dash(\n",
    "    external_stylesheets=[dbc.themes.BOOTSTRAP]\n",
    ")\n",
    "\n",
    "app.layout = createSelectionLayout()[1]\n",
    "\n",
    "if __name__ == \"__main__\":\n",
    "    app.run(debug=True)"
   ]
  },
  {
   "cell_type": "code",
   "execution_count": null,
   "metadata": {},
   "outputs": [],
   "source": [
    "#| hide\n",
    "import nbdev\n",
    "\n",
    "nbdev.nbdev_export()"
   ]
  }
 ],
 "metadata": {
  "kernelspec": {
   "display_name": "Python 3 (ipykernel)",
   "language": "python",
   "name": "python3"
  },
  "language_info": {
   "codemirror_mode": {
    "name": "ipython",
    "version": 3
   },
   "file_extension": ".py",
   "mimetype": "text/x-python",
   "name": "python",
   "nbconvert_exporter": "python",
   "pygments_lexer": "ipython3",
   "version": "3.11.4"
  }
 },
 "nbformat": 4,
 "nbformat_minor": 4
}
